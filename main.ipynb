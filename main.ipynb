{
 "cells": [
  {
   "cell_type": "markdown",
   "metadata": {},
   "source": [
    "# Machine Learning for Predecttive Maintenance\n",
    "\n",
    "## Introduction\n",
    "\n",
    "### Predictive maintenance is a proactive approach to maintaining equipment by predicting potential failures before they occur. This helps in reducing unplanned downtime, minimizing maintenance costs, \n",
    "### and extending the lifespan of the equipment. In this notebook, we will demonstrate the implementation of a predictive maintenance model using both historical and real-time data.\n",
    "\n",
    "### Due to the lack of existing real-world data, we will generate synthetic data to simulate the operating conditions and potential failures of industrial transformers and company laptops. The synthetic data will include various features such as temperature, vibration, load, ambient temperature, and humidity for transformers, and CPU usage, memory usage, disk health, and uptime for laptops.\n",
    "\n",
    "### The main steps in this notebook include:\n",
    "#### 1. **Data Generation:** Creating synthetic data that mimics real-world scenarios, including both normal operating conditions and potential failure conditions.\n",
    "#### 2. **Data Preprocessing:** Cleaning and transforming the data to make it suitable for model training.\n",
    "#### 3. **Feature Engineering:** Creating additional features that help improve the predictive power of the model.\n",
    "#### 4. **Model Training:** Training machine learning models using the synthetic data to predict equipment failures.\n",
    "#### 5. **Real-time Data Integration:** Simulating real-time data collection and feeding it into the model for continuous predictions.\n",
    "#### 6. **Monitoring and Alerting:** Setting up mechanisms to monitor model predictions and generate alerts for potential failures.\n",
    "\n",
    "### By the end of this notebook, we aim to build a robust predictive maintenance system that leverages both historical and real-time data to accurately predict equipment failures.\n",
    "### This system will enable proactive maintenance, thereby improving reliability and efficiency in industrial and IT environments.\n",
    "\n",
    "## Let's get started!\n"
   ]
  },
  {
   "cell_type": "markdown",
   "metadata": {},
   "source": [
    "## Data Augmentation"
   ]
  },
  {
   "metadata": {},
   "cell_type": "markdown",
   "source": "### Transformer Data Augmentation"
  },
  {
   "cell_type": "code",
   "metadata": {
    "jupyter": {
     "is_executing": true
    }
   },
   "source": [
    "import numpy  as np\n",
    "import pandas as pd\n",
    "\n",
    "# Define the number of samples\n",
    "numSamples = 10000\n",
    "\n",
    "# Generate normal operating conditions\n",
    "normalTemperature = np.random.uniform(60, 80, numSamples)\n",
    "normalVibration = np.random.uniform(0, 0.1, numSamples)\n",
    "normalLoad = np.random.uniform(30, 70, numSamples)\n",
    "normalAmbient_temp = np.random.uniform(20, 40, numSamples)\n",
    "normalHumidity = np.random.uniform(30, 70, numSamples)\n",
    "\n",
    "# Generate abnormal conditions (failures)\n",
    "abnormalTemperature = np.random.uniform(80, 100, int(numSamples * 0.1))\n",
    "abnormalVibration = np.random.uniform(0.1, 0.5, int(numSamples * 0.1))\n",
    "abnormalLoad = np.random.uniform(70, 100, int(numSamples * 0.1))\n",
    "abnormalAmbientTemp = np.random.uniform(40, 60, int(numSamples * 0.1))\n",
    "abnormalHumidity = np.random.uniform(70, 100, int(numSamples * 0.1))\n",
    "\n",
    "# Concatenate normal and abnormal conditions\n",
    "temperature = np.concatenate((normalTemperature, abnormalTemperature))\n",
    "vibration = np.concatenate((normalVibration, abnormalVibration))\n",
    "load = np.concatenate((normalLoad, abnormalLoad))\n",
    "ambientTemp = np.concatenate((normalAmbient_temp, abnormalAmbientTemp))\n",
    "humidity = np.concatenate((normalHumidity, abnormalHumidity))\n",
    "\n",
    "# Creating labels\n",
    "labels = np.concatenate((np.zeros(numSamples), np.ones(int(numSamples * 0.1))))\n",
    "\n",
    "# Create a DataFrame\n",
    "data = pd.DataFrame({\n",
    "    'temperature': temperature,\n",
    "    'vibration': vibration,\n",
    "    'load': load,\n",
    "    'ambient_temp': ambientTemp,\n",
    "    'humidity': humidity,\n",
    "    'failure': labels\n",
    "})\n",
    "\n",
    "# Shuffle the data\n",
    "data = data.sample(frac=1).reset_index(drop=True)\n",
    "\n",
    "data.to_csv('synthetic_transformer_data.csv', index=False)\n",
    "\n",
    "print(data.head())\n"
   ],
   "outputs": [],
   "execution_count": null
  },
  {
   "metadata": {},
   "cell_type": "markdown",
   "source": "### Laptop Data Augmentation"
  },
  {
   "metadata": {},
   "cell_type": "code",
   "outputs": [],
   "execution_count": null,
   "source": [
    "import numpy as np\n",
    "import pandas as pd\n",
    "\n",
    "# Define the number of samples\n",
    "numSamples = 10000\n",
    "\n",
    "# Generate normal operating conditions\n",
    "normalCpuUsage = np.random.uniform(10, 50, numSamples)\n",
    "normalMemoryUsage = np.random.uniform(30, 70, numSamples)\n",
    "normalDiskHealth = np.random.uniform(80, 100, numSamples)\n",
    "normalBatteryHealth = np.random.uniform(70, 100, numSamples)\n",
    "normalUptime = np.random.uniform(0, 100, numSamples)\n",
    "\n",
    "# Generate abnormal conditions (crashes)\n",
    "abnormalCpuUsage = np.random.uniform(50, 100, int(numSamples * 0.1))\n",
    "abnormalMemoryUsage = np.random.uniform(70, 100, int(numSamples * 0.1))\n",
    "abnormalDiskHealth = np.random.uniform(0, 80, int(numSamples * 0.1))\n",
    "abnormalBatteryHealth = np.random.uniform(0, 70, int(numSamples * 0.1))\n",
    "abnormalUptime = np.random.uniform(100, 200, int(numSamples * 0.1))\n",
    "\n",
    "# Concatenate normal and abnormal conditions\n",
    "cpuUsage = np.concatenate((normalCpuUsage, abnormalCpuUsage))\n",
    "memoryUsage = np.concatenate((normalMemoryUsage, abnormalMemoryUsage))\n",
    "diskHealth = np.concatenate((normalDiskHealth, abnormalDiskHealth))\n",
    "batteryHealth = np.concatenate((normalBatteryHealth, abnormalBatteryHealth))\n",
    "uptime = np.concatenate((normalUptime, abnormalUptime))\n",
    "\n",
    "# Create labels\n",
    "labels = np.concatenate((np.zeros(numSamples), np.ones(int(numSamples * 0.1))))\n",
    "\n",
    "# Create a DataFrame\n",
    "laptop_data = pd.DataFrame({\n",
    "    'cpu_usage': cpuUsage,\n",
    "    'memory_usage': memoryUsage,\n",
    "    'disk_health': diskHealth,\n",
    "    'battery_health': batteryHealth,\n",
    "    'uptime': uptime,\n",
    "    'system_crash': labels\n",
    "})\n",
    "\n",
    "# Shuffle the data\n",
    "laptop_data = laptop_data.sample(frac=1).reset_index(drop=True)\n",
    "\n",
    "laptop_data.to_csv('synthetic_laptop_data.csv', index=False)\n",
    "\n",
    "print(laptop_data.head())"
   ]
  }
 ],
 "metadata": {
  "kernelspec": {
   "display_name": "Python 3",
   "language": "python",
   "name": "python3"
  },
  "language_info": {
   "name": "python",
   "version": "3.12.0"
  }
 },
 "nbformat": 4,
 "nbformat_minor": 2
}
